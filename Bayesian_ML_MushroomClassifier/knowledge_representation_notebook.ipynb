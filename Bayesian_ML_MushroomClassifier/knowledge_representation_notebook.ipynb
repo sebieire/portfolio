{
 "cells": [
  {
   "cell_type": "markdown",
   "metadata": {},
   "source": "### Bayesian Networks and Machine Learning Project\nThis project demonstrates Knowledge Representation concepts through Bayesian Networks and Naive Bayes classification algorithms."
  },
  {
   "cell_type": "markdown",
   "metadata": {},
   "source": [
    "![](images/header_s2_part1.png)"
   ]
  },
  {
   "cell_type": "markdown",
   "metadata": {},
   "source": [
    "A passage of text was provided from a lifestyle risk factor and residual life expectancy <a href=\"https://bmcmedicine.biomedcentral.com/articles/10.1186/1741-7015-12-59\">cohort study</a> conducted in Germany published in 2014. The initial step is to produce a visualization of the network structure. It outlines the relationships between the chosen variables from the given text."
   ]
  },
  {
   "cell_type": "markdown",
   "metadata": {},
   "source": [
    "### Rationale & Visualization Of The Network:\n",
    "\n",
    "The implemented variables are:\n",
    "\n",
    "* \"Is A Smoker\"\n",
    "* \"Heavy Alcohol Consumption\"\n",
    "* \"Is Overweight\"\n",
    "* \"Low Physical Activity\"\n",
    "* Health Risk\n",
    "* Gender (implemented as \"Is Female\")\n",
    "* Loss of Residual Life Expectancy (RLE)\n",
    "\n",
    "The aim is to predict the loss of life expectancy in amount of years depending on the use and habits of lifestyle risk factors and gender. The visual depiction of the network is as follows:"
   ]
  },
  {
   "cell_type": "markdown",
   "metadata": {},
   "source": [
    "![](images/bayes_network_visualization.png)"
   ]
  },
  {
   "cell_type": "markdown",
   "metadata": {},
   "source": [
    "Bad lifestyle choices lead to an increased health risk and ultimate decrease in life expectancy. Smoking has the highest health impact followed by overweight, alcohol and no exercise. All of those weigh in on the \"Health Risk\" in the network.  As the text also indicates: gender is clearly a very important influence besides bad risk factors. Therefore woman and men are affected differently. This is why the variable affects the \"RLE Loss\" combined with \"Health Risk\" towards the end. This means that \"Gender\" is an independant factor as of course none of the health risks themselves influence if the gender is female or male.\n",
    "\n",
    "Note: the variable \"Is a Smoker\" is understood to be either a heavy or light smoker in this context for simplification.\n",
    "\n",
    "Variables that have been omitted from the text are \"Low BMI\" and \"Red Meat Consumption\". Nevertheless this omission is being taken into account to some extent when querying the overall loss in years for any scenario as explained later on."
   ]
  },
  {
   "cell_type": "markdown",
   "metadata": {},
   "source": [
    "### Conditional Probability Tables:"
   ]
  },
  {
   "cell_type": "markdown",
   "metadata": {},
   "source": [
    "To obtain more accurate results I have utilized additional census related information where possible. As the original data applies to Germany so does the additional input shown below. At first are the four chosen health risk factors:"
   ]
  },
  {
   "cell_type": "markdown",
   "metadata": {},
   "source": [
    "![](images/table_1.png)"
   ]
  },
  {
   "cell_type": "markdown",
   "metadata": {},
   "source": [
    "Those four risks constitute the \"Health Risk\" probabiliy table. All values have been approximated by calculation as explained. The text outlines a \"maximum loss of life in years\" value for heavy and light female and male smokers. Those are respectively 9.4 and 7.3 as well as 5.3 and 5.0. In order to combine them I chose to use the average of those between heavy and light as well as between male and female (equals 6.75 years). This is only an approximate solution to combine those values into one united \"smoking\" value.\n",
    "\n",
    "When summing the respective year amounts for the four chosen risk factors (smoking = 6.75, alcohol = 3.1, overweight = 3.15 and low PA = 1.1) each value's respective percentage of the total sum can be dertermined and normalized to 1. The last step is to find the correct distribution. For example smoking with an original value of 6.75 years is now 0.523 (0 to 1 scale) by itself with 1 being all four health risk factors summed. The resulting table looks as follows:"
   ]
  },
  {
   "cell_type": "markdown",
   "metadata": {},
   "source": [
    "![](images/table_2.png)"
   ]
  },
  {
   "cell_type": "markdown",
   "metadata": {},
   "source": [
    "The remaining tables are the Gender \"Is Female\" table (based on German census data) and the combined RLE Loss table."
   ]
  },
  {
   "cell_type": "markdown",
   "metadata": {},
   "source": [
    "![](images/table_3.png)"
   ]
  },
  {
   "cell_type": "markdown",
   "metadata": {},
   "source": [
    "![](images/table_4.png)"
   ]
  },
  {
   "cell_type": "markdown",
   "metadata": {},
   "source": [
    "In order to compensate somewhat for the dropped \"Low BMI\" and \"Red Meat\" values, the RLE Loss is calculated with keeping the new maximum in mind. In the text the values 17 (for men) and 13.9 (for woman) are indicated. Those include the here omitted health risks. The new maximum values (with only four health risks) respectively are between 15 to 16 for male and 13 for female.\n",
    "\n",
    "Because the \"smoking\" values have also been combined in an average, the calculation are to be expected slightly lower for male and slightly higher for female. Those will be tested and compared to the text in the next section to find out any deviations. Either way the RLE Loss values could always be adapted slightly if required but are based on my own calculations as indicated."
   ]
  },
  {
   "cell_type": "markdown",
   "metadata": {},
   "source": [
    "### Implementation & Querying The Network:"
   ]
  },
  {
   "cell_type": "markdown",
   "metadata": {},
   "source": [
    "All of the above outlined is implemented in a BayesNet as can be seen below:"
   ]
  },
  {
   "cell_type": "markdown",
   "metadata": {},
   "source": [
    "![](images/code_1.png)"
   ]
  },
  {
   "cell_type": "code",
   "execution_count": null,
   "metadata": {},
   "outputs": [],
   "source": "from bayes_network_rle import get_RLE_bayes_network\nfrom lib_aima.probability import enumeration_ask, likelihood_weighting"
  },
  {
   "cell_type": "markdown",
   "metadata": {},
   "source": [
    "##### First get the network and check if a node conditional probablility table returns values"
   ]
  },
  {
   "cell_type": "code",
   "execution_count": 14,
   "metadata": {},
   "outputs": [
    {
     "data": {
      "text/plain": [
       "{(True, True, True, True): 0.999,\n",
       " (True, True, True, False): 0.898,\n",
       " (True, True, False, True): 0.81,\n",
       " (True, True, False, False): 0.708,\n",
       " (True, False, True, True): 0.815,\n",
       " (True, False, True, False): 0.713,\n",
       " (True, False, False, True): 0.625,\n",
       " (True, False, False, False): 0.523,\n",
       " (False, True, True, True): 0.477,\n",
       " (False, True, True, False): 0.375,\n",
       " (False, True, False, True): 0.287,\n",
       " (False, True, False, False): 0.185,\n",
       " (False, False, True, True): 0.292,\n",
       " (False, False, True, False): 0.19,\n",
       " (False, False, False, True): 0.102,\n",
       " (False, False, False, False): 0.001}"
      ]
     },
     "execution_count": 14,
     "metadata": {},
     "output_type": "execute_result"
    }
   ],
   "source": [
    "network = get_RLE_bayes_network()\n",
    "network.variable_node('Health_Risk').cpt"
   ]
  },
  {
   "cell_type": "markdown",
   "metadata": {},
   "source": [
    "##### Get an accurate return with \"enumerate_ask\"\n",
    "This can also function as a test as one knows what to expect based on the parameters. For the query below 0.9411 is expected."
   ]
  },
  {
   "cell_type": "code",
   "execution_count": 18,
   "metadata": {},
   "outputs": [
    {
     "data": {
      "text/plain": [
       "0.9410999999999999"
      ]
     },
     "execution_count": 18,
     "metadata": {},
     "output_type": "execute_result"
    }
   ],
   "source": [
    "query = enumeration_ask('RLE_Loss', {'Health_Risk': True, 'Is_Female': False}, network)\n",
    "query[True]"
   ]
  },
  {
   "cell_type": "markdown",
   "metadata": {},
   "source": [
    "The value is correct."
   ]
  },
  {
   "cell_type": "markdown",
   "metadata": {},
   "source": [
    "##### Using \"likelihood_weighting\" to obtain an estimate of probability\n",
    "As documented in the aima code base this function will return \"estimate of probability distribution of X given e\". Below I query values that were initially provided in the text in order to compare the networks performance. \n",
    "\n",
    "According to the text a male heavy smoker may have a 9.4 (between 8.3-10.6) years reduction in life expectancy. For females the value is 5.3 (3.6 - 7.1). In order to obtain the year-values, the output from the network needs to be mulitplied with the given maximum of 17 or respectively 13.9 years."
   ]
  },
  {
   "cell_type": "code",
   "execution_count": 23,
   "metadata": {},
   "outputs": [],
   "source": [
    "# setting up the max variables for easier reference\n",
    "female_max = 13.9\n",
    "male_max = 17"
   ]
  },
  {
   "cell_type": "code",
   "execution_count": 24,
   "metadata": {},
   "outputs": [
    {
     "name": "stdout",
     "output_type": "stream",
     "text": [
      "Potential RLE Loss in number of years: 8.65\n"
     ]
    }
   ],
   "source": [
    "# male calculations\n",
    "query = likelihood_weighting('RLE_Loss', {'Is_Smoker': True, 'Is_Heavy_Drinker': False, 'Is_Overweight': False, 'Low_Physical_Acitivity': False, 'Is_Female': False}, network)\n",
    "print(\"Potential RLE Loss in number of years:\", round(query[True]*male_max,2))"
   ]
  },
  {
   "cell_type": "code",
   "execution_count": 25,
   "metadata": {},
   "outputs": [
    {
     "name": "stdout",
     "output_type": "stream",
     "text": [
      "Potential RLE Loss in number of years: 6.01\n"
     ]
    }
   ],
   "source": [
    "# female calculations\n",
    "query = likelihood_weighting('RLE_Loss', {'Is_Smoker': True, 'Is_Heavy_Drinker': False, 'Is_Overweight': False, 'Low_Physical_Acitivity': False, 'Is_Female': True}, network)\n",
    "print(\"Potential RLE Loss in number of years:\", round(query[True]*female_max,2))"
   ]
  },
  {
   "cell_type": "markdown",
   "metadata": {},
   "source": [
    "As previously mentioned the expected values for female would be a bit higher and for male a bit lower than what given in the text due to some of the simplifications and averaging. However they are still well within the threshold. This means the **network is performing correct**. \n",
    "\n",
    "Nevertheless all returned values need to be interpreted within a **range of at least +/-1 years**."
   ]
  },
  {
   "cell_type": "markdown",
   "metadata": {},
   "source": [
    "#### Asking More Questions"
   ]
  },
  {
   "cell_type": "markdown",
   "metadata": {},
   "source": [
    "How many years of reduced life expectancy can a smoker that is overweight, rarely exercises and regularily drinks expect? For a male:"
   ]
  },
  {
   "cell_type": "code",
   "execution_count": 38,
   "metadata": {},
   "outputs": [
    {
     "name": "stdout",
     "output_type": "stream",
     "text": [
      "Potential RLE Loss in number of years: 15.91\n"
     ]
    }
   ],
   "source": [
    "query = likelihood_weighting('RLE_Loss', {'Is_Smoker': True, 'Is_Heavy_Drinker': True, 'Is_Overweight': True, 'Low_Physical_Acitivity': True, 'Is_Female': False}, network)\n",
    "print(\"Potential RLE Loss in number of years:\", round(query[True]*male_max,2))"
   ]
  },
  {
   "cell_type": "markdown",
   "metadata": {},
   "source": [
    "And for a female:"
   ]
  },
  {
   "cell_type": "code",
   "execution_count": 39,
   "metadata": {},
   "outputs": [
    {
     "name": "stdout",
     "output_type": "stream",
     "text": [
      "Potential RLE Loss in number of years: 10.73\n"
     ]
    }
   ],
   "source": [
    "query = likelihood_weighting('RLE_Loss', {'Is_Smoker': True, 'Is_Heavy_Drinker': True, 'Is_Overweight': True, 'Low_Physical_Acitivity': True, 'Is_Female': True}, network)\n",
    "print(\"Potential RLE Loss in number of years:\", round(query[True]*female_max,2))"
   ]
  },
  {
   "cell_type": "markdown",
   "metadata": {},
   "source": [
    "How does the same compare if one isn't a smoker though? For a male:"
   ]
  },
  {
   "cell_type": "code",
   "execution_count": 40,
   "metadata": {},
   "outputs": [
    {
     "name": "stdout",
     "output_type": "stream",
     "text": [
      "Potential RLE Loss in number of years: 7.86\n"
     ]
    }
   ],
   "source": [
    "query = likelihood_weighting('RLE_Loss', {'Is_Smoker': False, 'Is_Heavy_Drinker': True, 'Is_Overweight': True, 'Low_Physical_Acitivity': True, 'Is_Female': False}, network)\n",
    "print(\"Potential RLE Loss in number of years:\", round(query[True]*male_max,2))"
   ]
  },
  {
   "cell_type": "markdown",
   "metadata": {},
   "source": [
    "And for females:"
   ]
  },
  {
   "cell_type": "code",
   "execution_count": 44,
   "metadata": {},
   "outputs": [
    {
     "name": "stdout",
     "output_type": "stream",
     "text": [
      "Potential RLE Loss in number of years: 5.6\n"
     ]
    }
   ],
   "source": [
    "query = likelihood_weighting('RLE_Loss', {'Is_Smoker': False, 'Is_Heavy_Drinker': True, 'Is_Overweight': True, 'Low_Physical_Acitivity': True, 'Is_Female': True}, network)\n",
    "print(\"Potential RLE Loss in number of years:\", round(query[True]*female_max,2))"
   ]
  },
  {
   "cell_type": "markdown",
   "metadata": {},
   "source": [
    "It is evident that smoking can have a very high impact on RLE reduction. More so than any other negative lifestyle choice included in the study.\n",
    "\n",
    "But of course, we all live very healthily. We ony smoke occasionally, drink a bit for fun on weekends, go for a run (sometimes) and are only a bit overweight. *Surely we are fine!* What is the loss in life expectancy estimated when **only RLE Loss is queried** (default mode)?"
   ]
  },
  {
   "cell_type": "code",
   "execution_count": 47,
   "metadata": {},
   "outputs": [
    {
     "name": "stdout",
     "output_type": "stream",
     "text": [
      "Potential RLE Loss (Male) in number of years: 4.54\n",
      "Potential RLE Loss (Female) in number of years: 3.71\n"
     ]
    }
   ],
   "source": [
    "query = likelihood_weighting('RLE_Loss', {}, network)\n",
    "print(\"Potential RLE Loss (Male) in number of years:\", round(query[True]*male_max,2))\n",
    "print(\"Potential RLE Loss (Female) in number of years:\", round(query[True]*female_max,2))"
   ]
  },
  {
   "cell_type": "markdown",
   "metadata": {},
   "source": [
    "### Uh oh ?!"
   ]
  },
  {
   "cell_type": "markdown",
   "metadata": {},
   "source": [
    "![](images/panic.png)"
   ]
  },
  {
   "cell_type": "markdown",
   "metadata": {},
   "source": [
    "Ok then... and for the *super healthy* so, that exercise, don't smoke, don't drink and aren't overweight?"
   ]
  },
  {
   "cell_type": "code",
   "execution_count": 50,
   "metadata": {},
   "outputs": [
    {
     "name": "stdout",
     "output_type": "stream",
     "text": [
      "Potential RLE Loss (Male) in number of years: 1.09\n",
      "Potential RLE Loss (Female) in number of years: 0.9\n"
     ]
    }
   ],
   "source": [
    "query = likelihood_weighting('RLE_Loss', {'Is_Smoker': False, 'Is_Heavy_Drinker': False, 'Is_Overweight': False, 'Low_Physical_Acitivity': False, 'Is_Female': True}, network)\n",
    "print(\"Potential RLE Loss (Male) in number of years:\", round(query[True]*male_max,2))\n",
    "print(\"Potential RLE Loss (Female) in number of years:\", round(query[True]*female_max,2))"
   ]
  },
  {
   "cell_type": "markdown",
   "metadata": {},
   "source": [
    "Right, that's better. Looks like it is a good idea to start exercising a bit more and avoiding bad lifestyle choices."
   ]
  },
  {
   "cell_type": "markdown",
   "metadata": {},
   "source": [
    "![](images/header_s2_part2.png)"
   ]
  },
  {
   "cell_type": "markdown",
   "metadata": {},
   "source": [
    "The task is to **choose one multivariate dataset** from the <a href =\"https://archive.ics.uci.edu/ml/index.php\"> UCI Machine Learning Repository</a> and (1) perform various computations on it and (2) implement the **Naive Bayes Learner** algorithm based on the AIMA code repository and evaluate its performance.\n",
    "\n",
    "# 2.1 Data\n",
    "\n",
    "Importing other required libraries first:"
   ]
  },
  {
   "cell_type": "code",
   "execution_count": 1,
   "metadata": {},
   "outputs": [],
   "source": [
    "import pandas as pd\n",
    "import matplotlib.pyplot as plt\n",
    "plt.style.use('seaborn-poster')\n",
    "\n",
    "from lib import settings"
   ]
  },
  {
   "cell_type": "code",
   "execution_count": 2,
   "metadata": {},
   "outputs": [
    {
     "data": {
      "text/html": [
       "\n",
       "<style>\n",
       ".output_png {\n",
       "    display: table-cell;\n",
       "    text-align: center;\n",
       "    vertical-align: middle;\n",
       "    border: 4px solid #6b89a6; /* my header color */\n",
       "    margin: 40px 200px; /* compress down a bit */\n",
       "}\n",
       "</style>\n"
      ],
      "text/plain": [
       "<IPython.core.display.HTML object>"
      ]
     },
     "execution_count": 2,
     "metadata": {},
     "output_type": "execute_result"
    }
   ],
   "source": [
    "#######################################\n",
    "# VARIOUS SETTINGS / PARAMS \n",
    "#######################################\n",
    "\n",
    "# INIT SETTINGS\n",
    "\n",
    "display_output = True # allows for print outs of various dicts below (default should be True)\n",
    "settings.init_settings(show_output=display_output)\n",
    "\n",
    "# PLOT DISPLAY CSS\n",
    "from IPython.core.display import HTML\n",
    "HTML(\"\"\"\n",
    "<style>\n",
    ".output_png {\n",
    "    display: table-cell;\n",
    "    text-align: center;\n",
    "    vertical-align: middle;\n",
    "    border: 4px solid #6b89a6; /* my header color */\n",
    "    margin: 40px 200px; /* compress down a bit */\n",
    "}\n",
    "</style>\n",
    "\"\"\")"
   ]
  },
  {
   "cell_type": "markdown",
   "metadata": {},
   "source": [
    "#### Get Data / Process\n",
    "\n",
    "Mushroom Dataset\n",
    "Division into poisonous and edible"
   ]
  },
  {
   "cell_type": "markdown",
   "metadata": {},
   "source": [
    "![](images/mushrooms.png)"
   ]
  },
  {
   "cell_type": "code",
   "execution_count": null,
   "metadata": {},
   "outputs": [],
   "source": "from naive_bayes_classifier import read_in_dataFrame"
  },
  {
   "cell_type": "code",
   "execution_count": 4,
   "metadata": {},
   "outputs": [],
   "source": [
    "run_from_notebook = True\n",
    "file = \"./data/agaricus-lepiota.data\"\n",
    "class_header_label = 'class'\n",
    "column_headers = ['class', 'cap-shape', 'cap-surface', 'cap-color', 'bruises', \n",
    "                  'odor', 'gill-attachment', 'gill-spacing', 'gill-size', 'gill-color', 'stalk-shape',\n",
    "                  'stalk-root', 'stalk-surface-above-ring', 'stalk-surface-below-ring', 'stalk-color-above-ring', 'stalk-color-below-ring',\n",
    "                  'veil-type', 'veil-color', 'ring-number', 'ring-type', 'spore-print-color',\n",
    "                  'population', 'habitat'\n",
    "                  ]"
   ]
  },
  {
   "cell_type": "code",
   "execution_count": 5,
   "metadata": {},
   "outputs": [
    {
     "data": {
      "text/html": [
       "<div>\n",
       "<style scoped>\n",
       "    .dataframe tbody tr th:only-of-type {\n",
       "        vertical-align: middle;\n",
       "    }\n",
       "\n",
       "    .dataframe tbody tr th {\n",
       "        vertical-align: top;\n",
       "    }\n",
       "\n",
       "    .dataframe thead th {\n",
       "        text-align: right;\n",
       "    }\n",
       "</style>\n",
       "<table border=\"1\" class=\"dataframe\">\n",
       "  <thead>\n",
       "    <tr style=\"text-align: right;\">\n",
       "      <th></th>\n",
       "      <th>class</th>\n",
       "      <th>cap-shape</th>\n",
       "      <th>cap-surface</th>\n",
       "      <th>cap-color</th>\n",
       "      <th>bruises</th>\n",
       "      <th>odor</th>\n",
       "      <th>gill-attachment</th>\n",
       "      <th>gill-spacing</th>\n",
       "      <th>gill-size</th>\n",
       "      <th>gill-color</th>\n",
       "      <th>...</th>\n",
       "      <th>stalk-surface-below-ring</th>\n",
       "      <th>stalk-color-above-ring</th>\n",
       "      <th>stalk-color-below-ring</th>\n",
       "      <th>veil-type</th>\n",
       "      <th>veil-color</th>\n",
       "      <th>ring-number</th>\n",
       "      <th>ring-type</th>\n",
       "      <th>spore-print-color</th>\n",
       "      <th>population</th>\n",
       "      <th>habitat</th>\n",
       "    </tr>\n",
       "  </thead>\n",
       "  <tbody>\n",
       "    <tr>\n",
       "      <th>0</th>\n",
       "      <td>p</td>\n",
       "      <td>x</td>\n",
       "      <td>s</td>\n",
       "      <td>n</td>\n",
       "      <td>t</td>\n",
       "      <td>p</td>\n",
       "      <td>f</td>\n",
       "      <td>c</td>\n",
       "      <td>n</td>\n",
       "      <td>k</td>\n",
       "      <td>...</td>\n",
       "      <td>s</td>\n",
       "      <td>w</td>\n",
       "      <td>w</td>\n",
       "      <td>p</td>\n",
       "      <td>w</td>\n",
       "      <td>o</td>\n",
       "      <td>p</td>\n",
       "      <td>k</td>\n",
       "      <td>s</td>\n",
       "      <td>u</td>\n",
       "    </tr>\n",
       "    <tr>\n",
       "      <th>1</th>\n",
       "      <td>e</td>\n",
       "      <td>x</td>\n",
       "      <td>s</td>\n",
       "      <td>y</td>\n",
       "      <td>t</td>\n",
       "      <td>a</td>\n",
       "      <td>f</td>\n",
       "      <td>c</td>\n",
       "      <td>b</td>\n",
       "      <td>k</td>\n",
       "      <td>...</td>\n",
       "      <td>s</td>\n",
       "      <td>w</td>\n",
       "      <td>w</td>\n",
       "      <td>p</td>\n",
       "      <td>w</td>\n",
       "      <td>o</td>\n",
       "      <td>p</td>\n",
       "      <td>n</td>\n",
       "      <td>n</td>\n",
       "      <td>g</td>\n",
       "    </tr>\n",
       "    <tr>\n",
       "      <th>2</th>\n",
       "      <td>e</td>\n",
       "      <td>b</td>\n",
       "      <td>s</td>\n",
       "      <td>w</td>\n",
       "      <td>t</td>\n",
       "      <td>l</td>\n",
       "      <td>f</td>\n",
       "      <td>c</td>\n",
       "      <td>b</td>\n",
       "      <td>n</td>\n",
       "      <td>...</td>\n",
       "      <td>s</td>\n",
       "      <td>w</td>\n",
       "      <td>w</td>\n",
       "      <td>p</td>\n",
       "      <td>w</td>\n",
       "      <td>o</td>\n",
       "      <td>p</td>\n",
       "      <td>n</td>\n",
       "      <td>n</td>\n",
       "      <td>m</td>\n",
       "    </tr>\n",
       "    <tr>\n",
       "      <th>3</th>\n",
       "      <td>p</td>\n",
       "      <td>x</td>\n",
       "      <td>y</td>\n",
       "      <td>w</td>\n",
       "      <td>t</td>\n",
       "      <td>p</td>\n",
       "      <td>f</td>\n",
       "      <td>c</td>\n",
       "      <td>n</td>\n",
       "      <td>n</td>\n",
       "      <td>...</td>\n",
       "      <td>s</td>\n",
       "      <td>w</td>\n",
       "      <td>w</td>\n",
       "      <td>p</td>\n",
       "      <td>w</td>\n",
       "      <td>o</td>\n",
       "      <td>p</td>\n",
       "      <td>k</td>\n",
       "      <td>s</td>\n",
       "      <td>u</td>\n",
       "    </tr>\n",
       "    <tr>\n",
       "      <th>4</th>\n",
       "      <td>e</td>\n",
       "      <td>x</td>\n",
       "      <td>s</td>\n",
       "      <td>g</td>\n",
       "      <td>f</td>\n",
       "      <td>n</td>\n",
       "      <td>f</td>\n",
       "      <td>w</td>\n",
       "      <td>b</td>\n",
       "      <td>k</td>\n",
       "      <td>...</td>\n",
       "      <td>s</td>\n",
       "      <td>w</td>\n",
       "      <td>w</td>\n",
       "      <td>p</td>\n",
       "      <td>w</td>\n",
       "      <td>o</td>\n",
       "      <td>e</td>\n",
       "      <td>n</td>\n",
       "      <td>a</td>\n",
       "      <td>g</td>\n",
       "    </tr>\n",
       "    <tr>\n",
       "      <th>5</th>\n",
       "      <td>e</td>\n",
       "      <td>x</td>\n",
       "      <td>y</td>\n",
       "      <td>y</td>\n",
       "      <td>t</td>\n",
       "      <td>a</td>\n",
       "      <td>f</td>\n",
       "      <td>c</td>\n",
       "      <td>b</td>\n",
       "      <td>n</td>\n",
       "      <td>...</td>\n",
       "      <td>s</td>\n",
       "      <td>w</td>\n",
       "      <td>w</td>\n",
       "      <td>p</td>\n",
       "      <td>w</td>\n",
       "      <td>o</td>\n",
       "      <td>p</td>\n",
       "      <td>k</td>\n",
       "      <td>n</td>\n",
       "      <td>g</td>\n",
       "    </tr>\n",
       "    <tr>\n",
       "      <th>6</th>\n",
       "      <td>e</td>\n",
       "      <td>b</td>\n",
       "      <td>s</td>\n",
       "      <td>w</td>\n",
       "      <td>t</td>\n",
       "      <td>a</td>\n",
       "      <td>f</td>\n",
       "      <td>c</td>\n",
       "      <td>b</td>\n",
       "      <td>g</td>\n",
       "      <td>...</td>\n",
       "      <td>s</td>\n",
       "      <td>w</td>\n",
       "      <td>w</td>\n",
       "      <td>p</td>\n",
       "      <td>w</td>\n",
       "      <td>o</td>\n",
       "      <td>p</td>\n",
       "      <td>k</td>\n",
       "      <td>n</td>\n",
       "      <td>m</td>\n",
       "    </tr>\n",
       "    <tr>\n",
       "      <th>7</th>\n",
       "      <td>e</td>\n",
       "      <td>b</td>\n",
       "      <td>y</td>\n",
       "      <td>w</td>\n",
       "      <td>t</td>\n",
       "      <td>l</td>\n",
       "      <td>f</td>\n",
       "      <td>c</td>\n",
       "      <td>b</td>\n",
       "      <td>n</td>\n",
       "      <td>...</td>\n",
       "      <td>s</td>\n",
       "      <td>w</td>\n",
       "      <td>w</td>\n",
       "      <td>p</td>\n",
       "      <td>w</td>\n",
       "      <td>o</td>\n",
       "      <td>p</td>\n",
       "      <td>n</td>\n",
       "      <td>s</td>\n",
       "      <td>m</td>\n",
       "    </tr>\n",
       "    <tr>\n",
       "      <th>8</th>\n",
       "      <td>p</td>\n",
       "      <td>x</td>\n",
       "      <td>y</td>\n",
       "      <td>w</td>\n",
       "      <td>t</td>\n",
       "      <td>p</td>\n",
       "      <td>f</td>\n",
       "      <td>c</td>\n",
       "      <td>n</td>\n",
       "      <td>p</td>\n",
       "      <td>...</td>\n",
       "      <td>s</td>\n",
       "      <td>w</td>\n",
       "      <td>w</td>\n",
       "      <td>p</td>\n",
       "      <td>w</td>\n",
       "      <td>o</td>\n",
       "      <td>p</td>\n",
       "      <td>k</td>\n",
       "      <td>v</td>\n",
       "      <td>g</td>\n",
       "    </tr>\n",
       "    <tr>\n",
       "      <th>9</th>\n",
       "      <td>e</td>\n",
       "      <td>b</td>\n",
       "      <td>s</td>\n",
       "      <td>y</td>\n",
       "      <td>t</td>\n",
       "      <td>a</td>\n",
       "      <td>f</td>\n",
       "      <td>c</td>\n",
       "      <td>b</td>\n",
       "      <td>g</td>\n",
       "      <td>...</td>\n",
       "      <td>s</td>\n",
       "      <td>w</td>\n",
       "      <td>w</td>\n",
       "      <td>p</td>\n",
       "      <td>w</td>\n",
       "      <td>o</td>\n",
       "      <td>p</td>\n",
       "      <td>k</td>\n",
       "      <td>s</td>\n",
       "      <td>m</td>\n",
       "    </tr>\n",
       "  </tbody>\n",
       "</table>\n",
       "<p>10 rows × 23 columns</p>\n",
       "</div>"
      ],
      "text/plain": [
       "  class cap-shape cap-surface cap-color bruises odor gill-attachment  \\\n",
       "0     p         x           s         n       t    p               f   \n",
       "1     e         x           s         y       t    a               f   \n",
       "2     e         b           s         w       t    l               f   \n",
       "3     p         x           y         w       t    p               f   \n",
       "4     e         x           s         g       f    n               f   \n",
       "5     e         x           y         y       t    a               f   \n",
       "6     e         b           s         w       t    a               f   \n",
       "7     e         b           y         w       t    l               f   \n",
       "8     p         x           y         w       t    p               f   \n",
       "9     e         b           s         y       t    a               f   \n",
       "\n",
       "  gill-spacing gill-size gill-color  ... stalk-surface-below-ring  \\\n",
       "0            c         n          k  ...                        s   \n",
       "1            c         b          k  ...                        s   \n",
       "2            c         b          n  ...                        s   \n",
       "3            c         n          n  ...                        s   \n",
       "4            w         b          k  ...                        s   \n",
       "5            c         b          n  ...                        s   \n",
       "6            c         b          g  ...                        s   \n",
       "7            c         b          n  ...                        s   \n",
       "8            c         n          p  ...                        s   \n",
       "9            c         b          g  ...                        s   \n",
       "\n",
       "  stalk-color-above-ring stalk-color-below-ring veil-type veil-color  \\\n",
       "0                      w                      w         p          w   \n",
       "1                      w                      w         p          w   \n",
       "2                      w                      w         p          w   \n",
       "3                      w                      w         p          w   \n",
       "4                      w                      w         p          w   \n",
       "5                      w                      w         p          w   \n",
       "6                      w                      w         p          w   \n",
       "7                      w                      w         p          w   \n",
       "8                      w                      w         p          w   \n",
       "9                      w                      w         p          w   \n",
       "\n",
       "  ring-number ring-type spore-print-color population habitat  \n",
       "0           o         p                 k          s       u  \n",
       "1           o         p                 n          n       g  \n",
       "2           o         p                 n          n       m  \n",
       "3           o         p                 k          s       u  \n",
       "4           o         e                 n          a       g  \n",
       "5           o         p                 k          n       g  \n",
       "6           o         p                 k          n       m  \n",
       "7           o         p                 n          s       m  \n",
       "8           o         p                 k          v       g  \n",
       "9           o         p                 k          s       m  \n",
       "\n",
       "[10 rows x 23 columns]"
      ]
     },
     "execution_count": 5,
     "metadata": {},
     "output_type": "execute_result"
    }
   ],
   "source": [
    "data_frame = read_in_dataFrame(file, column_names=column_headers)\n",
    "display_to = 10\n",
    "data_frame[:display_to]"
   ]
  },
  {
   "cell_type": "markdown",
   "metadata": {},
   "source": [
    "#### Data Subset\n",
    "\n",
    "While the 8000+ records in the original data file display a relatively even distribution of 'edible' and 'poisonous', large parts of the same class are often clustered together. For that reason any subest needs to be a shuffled set from the entire set to insure a more even distribution."
   ]
  },
  {
   "cell_type": "code",
   "execution_count": null,
   "metadata": {},
   "outputs": [],
   "source": "from naive_bayes_classifier import get_subset_random_shuffled"
  },
  {
   "cell_type": "markdown",
   "metadata": {},
   "source": [
    "![](images/code_2_1.png)"
   ]
  },
  {
   "cell_type": "code",
   "execution_count": 7,
   "metadata": {},
   "outputs": [],
   "source": [
    "subset_amount = 500 # 8124 max\n",
    "subset_data = get_subset_random_shuffled(data_frame, subset_amount)"
   ]
  },
  {
   "cell_type": "markdown",
   "metadata": {},
   "source": [
    "#### Calculate Prior Probabilities\n",
    "\n",
    "The prior probability is the probability of each class in respect to the entire list of given data rows. In basic terms it can be expressed as the percentage of that class occurance in the given data. It does not take any of the features (or evidence) into account. It can also be expressed as P(c) which means: *prior probability of class c*."
   ]
  },
  {
   "cell_type": "code",
   "execution_count": null,
   "metadata": {},
   "outputs": [],
   "source": "from naive_bayes_classifier import calculate_prior_class_probabilities"
  },
  {
   "cell_type": "markdown",
   "metadata": {},
   "source": [
    "![](images/code_3.png)"
   ]
  },
  {
   "cell_type": "code",
   "execution_count": 9,
   "metadata": {},
   "outputs": [
    {
     "name": "stdout",
     "output_type": "stream",
     "text": [
      "For class: p the prior probability is: 0.478\n",
      "For class: e the prior probability is: 0.522\n"
     ]
    }
   ],
   "source": [
    "prior_prob_dict = calculate_prior_class_probabilities(subset_data)"
   ]
  },
  {
   "cell_type": "code",
   "execution_count": 10,
   "metadata": {},
   "outputs": [
    {
     "data": {
      "image/png": "[encoded data removed]",
      "text/plain": [
       "<Figure size 921.6x633.6 with 1 Axes>"
      ]
     },
     "metadata": {
      "needs_background": "light"
     },
     "output_type": "display_data"
    }
   ],
   "source": [
    "plt.title('Distribution Of Prior Probabilities For Mushroom Dataset')\n",
    "plt.bar(prior_prob_dict.keys(), prior_prob_dict.values())\n",
    "plt.show();"
   ]
  },
  {
   "cell_type": "markdown",
   "metadata": {},
   "source": [
    "#### Calculate Probability of Evidence\n",
    "\n",
    "The evidence probability refers to the probability of the features (or observed class predictors). In Bayes Theorem the probability of evidence functions as a normalization factor. It is the denominator in the Naive Bayes equation."
   ]
  },
  {
   "cell_type": "code",
   "execution_count": null,
   "metadata": {},
   "outputs": [],
   "source": "from naive_bayes_classifier import calculate_evidence_probabilities"
  },
  {
   "cell_type": "markdown",
   "metadata": {},
   "source": [
    "![](images/code_4_1.png)"
   ]
  },
  {
   "cell_type": "code",
   "execution_count": 12,
   "metadata": {},
   "outputs": [
    {
     "name": "stdout",
     "output_type": "stream",
     "text": [
      "The probabilities of evidence for the given subset data are as follows:\n",
      "\n",
      "{'bruises': {'f': 0.604, 't': 0.396},\n",
      " 'cap-color': {'b': 0.016,\n",
      "               'c': 0.004,\n",
      "               'e': 0.188,\n",
      "               'g': 0.24,\n",
      "               'n': 0.288,\n",
      "               'p': 0.016,\n",
      "               'u': 0.006,\n",
      "               'w': 0.122,\n",
      "               'y': 0.12},\n",
      " 'cap-shape': {'b': 0.064,\n",
      "               'c': 0.002,\n",
      "               'f': 0.362,\n",
      "               'k': 0.11,\n",
      "               's': 0.002,\n",
      "               'x': 0.46},\n",
      " 'cap-surface': {'f': 0.298, 's': 0.32, 'y': 0.382},\n",
      " 'gill-attachment': {'a': 0.022, 'f': 0.978},\n",
      " 'gill-color': {'b': 0.214,\n",
      "                'e': 0.008,\n",
      "                'g': 0.096,\n",
      "                'h': 0.106,\n",
      "                'k': 0.058,\n",
      "                'n': 0.132,\n",
      "                'o': 0.006,\n",
      "                'p': 0.176,\n",
      "                'r': 0.004,\n",
      "                'u': 0.052,\n",
      "                'w': 0.142,\n",
      "                'y': 0.006},\n",
      " 'gill-size': {'b': 0.68, 'n': 0.32},\n",
      " 'gill-spacing': {'c': 0.818, 'w': 0.182},\n",
      " 'habitat': {'d': 0.404,\n",
      "             'g': 0.286,\n",
      "             'l': 0.082,\n",
      "             'm': 0.024,\n",
      "             'p': 0.142,\n",
      "             'u': 0.05,\n",
      "             'w': 0.012},\n",
      " 'odor': {'a': 0.05,\n",
      "          'c': 0.02,\n",
      "          'f': 0.252,\n",
      "          'l': 0.04,\n",
      "          'm': 0.01,\n",
      "          'n': 0.452,\n",
      "          'p': 0.036,\n",
      "          's': 0.082,\n",
      "          'y': 0.058},\n",
      " 'population': {'a': 0.068,\n",
      "                'c': 0.032,\n",
      "                'n': 0.046,\n",
      "                's': 0.158,\n",
      "                'v': 0.502,\n",
      "                'y': 0.194},\n",
      " 'ring-number': {'n': 0.01, 'o': 0.92, 't': 0.07},\n",
      " 'ring-type': {'e': 0.35, 'f': 0.01, 'l': 0.146, 'n': 0.01, 'p': 0.484},\n",
      " 'spore-print-color': {'b': 0.006,\n",
      "                       'h': 0.188,\n",
      "                       'k': 0.25,\n",
      "                       'n': 0.236,\n",
      "                       'o': 0.006,\n",
      "                       'r': 0.01,\n",
      "                       'u': 0.008,\n",
      "                       'w': 0.296},\n",
      " 'stalk-color-above-ring': {'b': 0.05,\n",
      "                            'c': 0.01,\n",
      "                            'e': 0.004,\n",
      "                            'g': 0.078,\n",
      "                            'n': 0.062,\n",
      "                            'o': 0.018,\n",
      "                            'p': 0.218,\n",
      "                            'w': 0.558,\n",
      "                            'y': 0.002},\n",
      " 'stalk-color-below-ring': {'b': 0.042,\n",
      "                            'c': 0.01,\n",
      "                            'g': 0.08,\n",
      "                            'n': 0.066,\n",
      "                            'o': 0.018,\n",
      "                            'p': 0.228,\n",
      "                            'w': 0.552,\n",
      "                            'y': 0.004},\n",
      " 'stalk-root': {'?': 0.302, 'b': 0.444, 'c': 0.068, 'e': 0.164, 'r': 0.022},\n",
      " 'stalk-shape': {'e': 0.416, 't': 0.584},\n",
      " 'stalk-surface-above-ring': {'f': 0.07, 'k': 0.298, 's': 0.624, 'y': 0.008},\n",
      " 'stalk-surface-below-ring': {'f': 0.086, 'k': 0.276, 's': 0.59, 'y': 0.048},\n",
      " 'veil-color': {'n': 0.004, 'o': 0.014, 'w': 0.98, 'y': 0.002},\n",
      " 'veil-type': {'p': 1.0}}\n"
     ]
    }
   ],
   "source": [
    "evidence_prob_dict = calculate_evidence_probabilities(subset_data)"
   ]
  },
  {
   "cell_type": "markdown",
   "metadata": {},
   "source": [
    "#### Calculate Probability of Likelihood of Evidences\n",
    "\n",
    "As defined in the Bayes Theorem the likelihood of evidences (*the likelihood*) is defined as **P(E|H)**. That is: the probability of evidence given the hyphothesis (or here more commonly the \"class\"). In other words this expression defines a conditional probability where the class influences the *expectation* of the evidence.\n",
    "\n",
    "As previous, I have implemented a function that calculates the likelihood and outputs it as can be seen below."
   ]
  },
  {
   "cell_type": "code",
   "execution_count": null,
   "metadata": {},
   "outputs": [],
   "source": "from naive_bayes_classifier import calculate_probability_of_likelihood_of_evidences"
  },
  {
   "cell_type": "markdown",
   "metadata": {},
   "source": [
    "![](images/code_5.png)"
   ]
  },
  {
   "cell_type": "code",
   "execution_count": 14,
   "metadata": {},
   "outputs": [
    {
     "name": "stdout",
     "output_type": "stream",
     "text": [
      "The probabilities of likelihood of evidence for the given subset data are as follows:\n",
      "\n",
      "{'e': {'bruises_f': 0.39080459770114945,\n",
      "       'bruises_t': 0.6091954022988506,\n",
      "       'cap-color_b': 0.007662835249042145,\n",
      "       'cap-color_c': 0.0,\n",
      "       'cap-color_e': 0.16475095785440613,\n",
      "       'cap-color_g': 0.26436781609195403,\n",
      "       'cap-color_n': 0.2835249042145594,\n",
      "       'cap-color_p': 0.007662835249042145,\n",
      "       'cap-color_u': 0.011494252873563218,\n",
      "       'cap-color_w': 0.16475095785440613,\n",
      "       'cap-color_y': 0.09578544061302682,\n",
      "       'cap-shape_b': 0.10727969348659004,\n",
      "       'cap-shape_c': 0.0,\n",
      "       'cap-shape_f': 0.3524904214559387,\n",
      "       'cap-shape_k': 0.038314176245210725,\n",
      "       'cap-shape_s': 0.0038314176245210726,\n",
      "       'cap-shape_x': 0.49808429118773945,\n",
      "       'cap-surface_f': 0.4061302681992337,\n",
      "       'cap-surface_s': 0.24521072796934865,\n",
      "       'cap-surface_y': 0.3486590038314176,\n",
      "       'gill-attachment_a': 0.034482758620689655,\n",
      "       'gill-attachment_f': 0.9655172413793104,\n",
      "       'gill-color_b': 0.0,\n",
      "       'gill-color_e': 0.01532567049808429,\n",
      "       'gill-color_g': 0.05363984674329502,\n",
      "       'gill-color_h': 0.06896551724137931,\n",
      "       'gill-color_k': 0.08045977011494253,\n",
      "       'gill-color_n': 0.2222222222222222,\n",
      "       'gill-color_o': 0.011494252873563218,\n",
      "       'gill-color_p': 0.25287356321839083,\n",
      "       'gill-color_r': 0.0,\n",
      "       'gill-color_u': 0.08812260536398467,\n",
      "       'gill-color_w': 0.20306513409961685,\n",
      "       'gill-color_y': 0.0038314176245210726,\n",
      "       'gill-size_b': 0.9233716475095786,\n",
      "       'gill-size_n': 0.07662835249042145,\n",
      "       'gill-spacing_c': 0.6819923371647509,\n",
      "       'gill-spacing_w': 0.31800766283524906,\n",
      "       'habitat_d': 0.45977011494252873,\n",
      "       'habitat_g': 0.39080459770114945,\n",
      "       'habitat_l': 0.038314176245210725,\n",
      "       'habitat_m': 0.0421455938697318,\n",
      "       'habitat_p': 0.01532567049808429,\n",
      "       'habitat_u': 0.03065134099616858,\n",
      "       'habitat_w': 0.022988505747126436,\n",
      "       'odor_a': 0.09578544061302682,\n",
      "       'odor_c': 0.0,\n",
      "       'odor_f': 0.0,\n",
      "       'odor_l': 0.07662835249042145,\n",
      "       'odor_m': 0.0,\n",
      "       'odor_n': 0.8275862068965517,\n",
      "       'odor_p': 0.0,\n",
      "       'odor_s': 0.0,\n",
      "       'odor_y': 0.0,\n",
      "       'population_a': 0.13026819923371646,\n",
      "       'population_c': 0.038314176245210725,\n",
      "       'population_n': 0.08812260536398467,\n",
      "       'population_s': 0.210727969348659,\n",
      "       'population_v': 0.2950191570881226,\n",
      "       'population_y': 0.23754789272030652,\n",
      "       'ring-number_n': 0.0,\n",
      "       'ring-number_o': 0.8850574712643678,\n",
      "       'ring-number_t': 0.11494252873563218,\n",
      "       'ring-type_e': 0.2413793103448276,\n",
      "       'ring-type_f': 0.019157088122605363,\n",
      "       'ring-type_l': 0.0,\n",
      "       'ring-type_n': 0.0,\n",
      "       'ring-type_p': 0.7394636015325671,\n",
      "       'spore-print-color_b': 0.011494252873563218,\n",
      "       'spore-print-color_h': 0.019157088122605363,\n",
      "       'spore-print-color_k': 0.42911877394636017,\n",
      "       'spore-print-color_n': 0.3946360153256705,\n",
      "       'spore-print-color_o': 0.011494252873563218,\n",
      "       'spore-print-color_r': 0.0,\n",
      "       'spore-print-color_u': 0.01532567049808429,\n",
      "       'spore-print-color_w': 0.11877394636015326,\n",
      "       'stalk-color-above-ring_b': 0.0,\n",
      "       'stalk-color-above-ring_c': 0.0,\n",
      "       'stalk-color-above-ring_e': 0.007662835249042145,\n",
      "       'stalk-color-above-ring_g': 0.14942528735632185,\n",
      "       'stalk-color-above-ring_n': 0.011494252873563218,\n",
      "       'stalk-color-above-ring_o': 0.034482758620689655,\n",
      "       'stalk-color-above-ring_p': 0.1532567049808429,\n",
      "       'stalk-color-above-ring_w': 0.6436781609195402,\n",
      "       'stalk-color-above-ring_y': 0.0,\n",
      "       'stalk-color-below-ring_b': 0.0,\n",
      "       'stalk-color-below-ring_c': 0.0,\n",
      "       'stalk-color-below-ring_g': 0.1532567049808429,\n",
      "       'stalk-color-below-ring_n': 0.01532567049808429,\n",
      "       'stalk-color-below-ring_o': 0.034482758620689655,\n",
      "       'stalk-color-below-ring_p': 0.13409961685823754,\n",
      "       'stalk-color-below-ring_w': 0.6628352490421456,\n",
      "       'stalk-color-below-ring_y': 0.0,\n",
      "       'stalk-root_?': 0.1532567049808429,\n",
      "       'stalk-root_b': 0.4521072796934866,\n",
      "       'stalk-root_c': 0.10727969348659004,\n",
      "       'stalk-root_e': 0.24521072796934865,\n",
      "       'stalk-root_r': 0.0421455938697318,\n",
      "       'stalk-shape_e': 0.3524904214559387,\n",
      "       'stalk-shape_t': 0.6475095785440613,\n",
      "       'stalk-surface-above-ring_f': 0.11494252873563218,\n",
      "       'stalk-surface-above-ring_k': 0.05747126436781609,\n",
      "       'stalk-surface-above-ring_s': 0.8160919540229885,\n",
      "       'stalk-surface-above-ring_y': 0.011494252873563218,\n",
      "       'stalk-surface-below-ring_f': 0.12260536398467432,\n",
      "       'stalk-surface-below-ring_k': 0.034482758620689655,\n",
      "       'stalk-surface-below-ring_s': 0.789272030651341,\n",
      "       'stalk-surface-below-ring_y': 0.05363984674329502,\n",
      "       'veil-color_n': 0.007662835249042145,\n",
      "       'veil-color_o': 0.02681992337164751,\n",
      "       'veil-color_w': 0.9655172413793104,\n",
      "       'veil-color_y': 0.0,\n",
      "       'veil-type_p': 1.0},\n",
      " 'p': {'bruises_f': 0.8368200836820083,\n",
      "       'bruises_t': 0.16317991631799164,\n",
      "       'cap-color_b': 0.02510460251046025,\n",
      "       'cap-color_c': 0.008368200836820083,\n",
      "       'cap-color_e': 0.21338912133891214,\n",
      "       'cap-color_g': 0.21338912133891214,\n",
      "       'cap-color_n': 0.2928870292887029,\n",
      "       'cap-color_p': 0.02510460251046025,\n",
      "       'cap-color_u': 0.0,\n",
      "       'cap-color_w': 0.07531380753138076,\n",
      "       'cap-color_y': 0.14644351464435146,\n",
      "       'cap-shape_b': 0.016736401673640166,\n",
      "       'cap-shape_c': 0.0041841004184100415,\n",
      "       'cap-shape_f': 0.3723849372384937,\n",
      "       'cap-shape_k': 0.18828451882845187,\n",
      "       'cap-shape_s': 0.0,\n",
      "       'cap-shape_x': 0.41841004184100417,\n",
      "       'cap-surface_f': 0.1799163179916318,\n",
      "       'cap-surface_s': 0.401673640167364,\n",
      "       'cap-surface_y': 0.41841004184100417,\n",
      "       'gill-attachment_a': 0.008368200836820083,\n",
      "       'gill-attachment_f': 0.9916317991631799,\n",
      "       'gill-color_b': 0.4476987447698745,\n",
      "       'gill-color_e': 0.0,\n",
      "       'gill-color_g': 0.14225941422594143,\n",
      "       'gill-color_h': 0.14644351464435146,\n",
      "       'gill-color_k': 0.03347280334728033,\n",
      "       'gill-color_n': 0.03347280334728033,\n",
      "       'gill-color_o': 0.0,\n",
      "       'gill-color_p': 0.09205020920502092,\n",
      "       'gill-color_r': 0.008368200836820083,\n",
      "       'gill-color_u': 0.012552301255230125,\n",
      "       'gill-color_w': 0.07531380753138076,\n",
      "       'gill-color_y': 0.008368200836820083,\n",
      "       'gill-size_b': 0.41422594142259417,\n",
      "       'gill-size_n': 0.5857740585774058,\n",
      "       'gill-spacing_c': 0.9665271966527197,\n",
      "       'gill-spacing_w': 0.03347280334728033,\n",
      "       'habitat_d': 0.34309623430962344,\n",
      "       'habitat_g': 0.17154811715481172,\n",
      "       'habitat_l': 0.1297071129707113,\n",
      "       'habitat_m': 0.0041841004184100415,\n",
      "       'habitat_p': 0.2803347280334728,\n",
      "       'habitat_u': 0.07112970711297072,\n",
      "       'habitat_w': 0.0,\n",
      "       'odor_a': 0.0,\n",
      "       'odor_c': 0.04184100418410042,\n",
      "       'odor_f': 0.5271966527196653,\n",
      "       'odor_l': 0.0,\n",
      "       'odor_m': 0.02092050209205021,\n",
      "       'odor_n': 0.04184100418410042,\n",
      "       'odor_p': 0.07531380753138076,\n",
      "       'odor_s': 0.17154811715481172,\n",
      "       'odor_y': 0.12133891213389121,\n",
      "       'population_a': 0.0,\n",
      "       'population_c': 0.02510460251046025,\n",
      "       'population_n': 0.0,\n",
      "       'population_s': 0.100418410041841,\n",
      "       'population_v': 0.7280334728033473,\n",
      "       'population_y': 0.14644351464435146,\n",
      "       'ring-number_n': 0.02092050209205021,\n",
      "       'ring-number_o': 0.9581589958158996,\n",
      "       'ring-number_t': 0.02092050209205021,\n",
      "       'ring-type_e': 0.4686192468619247,\n",
      "       'ring-type_f': 0.0,\n",
      "       'ring-type_l': 0.3054393305439331,\n",
      "       'ring-type_n': 0.02092050209205021,\n",
      "       'ring-type_p': 0.20502092050209206,\n",
      "       'spore-print-color_b': 0.0,\n",
      "       'spore-print-color_h': 0.3723849372384937,\n",
      "       'spore-print-color_k': 0.05439330543933055,\n",
      "       'spore-print-color_n': 0.06276150627615062,\n",
      "       'spore-print-color_o': 0.0,\n",
      "       'spore-print-color_r': 0.02092050209205021,\n",
      "       'spore-print-color_u': 0.0,\n",
      "       'spore-print-color_w': 0.4895397489539749,\n",
      "       'stalk-color-above-ring_b': 0.10460251046025104,\n",
      "       'stalk-color-above-ring_c': 0.02092050209205021,\n",
      "       'stalk-color-above-ring_e': 0.0,\n",
      "       'stalk-color-above-ring_g': 0.0,\n",
      "       'stalk-color-above-ring_n': 0.11715481171548117,\n",
      "       'stalk-color-above-ring_o': 0.0,\n",
      "       'stalk-color-above-ring_p': 0.28870292887029286,\n",
      "       'stalk-color-above-ring_w': 0.46443514644351463,\n",
      "       'stalk-color-above-ring_y': 0.0041841004184100415,\n",
      "       'stalk-color-below-ring_b': 0.08786610878661087,\n",
      "       'stalk-color-below-ring_c': 0.02092050209205021,\n",
      "       'stalk-color-below-ring_g': 0.0,\n",
      "       'stalk-color-below-ring_n': 0.12133891213389121,\n",
      "       'stalk-color-below-ring_o': 0.0,\n",
      "       'stalk-color-below-ring_p': 0.3305439330543933,\n",
      "       'stalk-color-below-ring_w': 0.4309623430962343,\n",
      "       'stalk-color-below-ring_y': 0.008368200836820083,\n",
      "       'stalk-root_?': 0.46443514644351463,\n",
      "       'stalk-root_b': 0.4351464435146444,\n",
      "       'stalk-root_c': 0.02510460251046025,\n",
      "       'stalk-root_e': 0.07531380753138076,\n",
      "       'stalk-root_r': 0.0,\n",
      "       'stalk-shape_e': 0.48535564853556484,\n",
      "       'stalk-shape_t': 0.5146443514644351,\n",
      "       'stalk-surface-above-ring_f': 0.02092050209205021,\n",
      "       'stalk-surface-above-ring_k': 0.5606694560669456,\n",
      "       'stalk-surface-above-ring_s': 0.41422594142259417,\n",
      "       'stalk-surface-above-ring_y': 0.0041841004184100415,\n",
      "       'stalk-surface-below-ring_f': 0.04602510460251046,\n",
      "       'stalk-surface-below-ring_k': 0.5397489539748954,\n",
      "       'stalk-surface-below-ring_s': 0.3723849372384937,\n",
      "       'stalk-surface-below-ring_y': 0.04184100418410042,\n",
      "       'veil-color_n': 0.0,\n",
      "       'veil-color_o': 0.0,\n",
      "       'veil-color_w': 0.99581589958159,\n",
      "       'veil-color_y': 0.0041841004184100415,\n",
      "       'veil-type_p': 1.0}}\n"
     ]
    }
   ],
   "source": [
    "likelihood_dict = calculate_probability_of_likelihood_of_evidences(subset_data)"
   ]
  },
  {
   "cell_type": "markdown",
   "metadata": {},
   "source": [
    "#### Application & Suitability\n",
    "\n",
    "The Bayes Rule explains probabilistic variables (queries) based on prior knowledge related to the variables (inter-dependency). In a network those are depicted as nodes forming a graph. They are only interdependant when connected via edges in the graph (parent-child relationship). Otherwise they are considered conditionally independant.\n",
    "\n",
    "There are over 8000 feature vectors in this dataset with an almost even distribution of classes among them. The features contain non-numeric values making scaling pre-processing unnecessary. The assumption is, that this dataset should be extremly well suited to implement with a Naive Bayes Learner allowing for effective training with high results as well as 'healthy' splitting into test and train sets."
   ]
  },
  {
   "cell_type": "markdown",
   "metadata": {},
   "source": [
    "# 2.2 Naive Bayes Learner"
   ]
  },
  {
   "cell_type": "markdown",
   "metadata": {},
   "source": [
    "The previously implemented functions provide a foundation to the implementation of a Naive Bayes algorithm. I have slightly modified the previous code as a continuation from task 2.1 and implemented additional changes. Those are  packaged into an own class as shown below. It outlines a basic manual version of a Naive Bayes Learner algorithm.\n",
    "\n",
    "**Please Note:** *Some recommended practices covered in the Machine Learning module COMP9061 are implemented here. The approach usually entails the use of the fit() and predict() functions with test and train split data. Additional ease-of-use analytical methods (e.g. Confusion Matrix, etc.) are packaged in the SKLearn library. However it is assumed that a manual implementation is required for the assignment. Therefore the required code is custom implemented and any additional libraries here are used for comparison and evaluation only.*"
   ]
  },
  {
   "cell_type": "markdown",
   "metadata": {},
   "source": [
    "#### Splitting the Data Into a Train & Test Set"
   ]
  },
  {
   "cell_type": "code",
   "execution_count": null,
   "metadata": {},
   "outputs": [],
   "source": "from naive_bayes_classifier import get_train_test_split_data"
  },
  {
   "cell_type": "markdown",
   "metadata": {},
   "source": [
    "![](images/code_6.png)"
   ]
  },
  {
   "cell_type": "markdown",
   "metadata": {},
   "source": [
    "The get_train_test_split_data function has a 'shuffle' flag in the event of clustered data in the data frame. If enabled it will return different values from the data frame at every run. The percentage test split allows for the specification of ratio between train & test data."
   ]
  },
  {
   "cell_type": "code",
   "execution_count": 16,
   "metadata": {},
   "outputs": [],
   "source": [
    "train_set, test_set = get_train_test_split_data(data_frame, percentage_train_split=0.90, shuffle=True)"
   ]
  },
  {
   "cell_type": "markdown",
   "metadata": {},
   "source": [
    "#### Custom Naive Bayes Class\n",
    "As introductory mentioned the previous functions are packaged into a class with further modifications and an implemented fit and predict class."
   ]
  },
  {
   "cell_type": "code",
   "execution_count": 18,
   "metadata": {},
   "outputs": [],
   "source": [
    "from lib.custom_naive_bayes_learner import NaiveBayesLearner"
   ]
  },
  {
   "cell_type": "markdown",
   "metadata": {},
   "source": [
    "![](images/code_7.png)"
   ]
  },
  {
   "cell_type": "markdown",
   "metadata": {},
   "source": [
    "I use the training set and the fit function to fit the training data and calculate probabilities."
   ]
  },
  {
   "cell_type": "code",
   "execution_count": 22,
   "metadata": {},
   "outputs": [],
   "source": [
    "NBL = NaiveBayesLearner(train_set)\n",
    "NBL.fit_data()"
   ]
  },
  {
   "cell_type": "markdown",
   "metadata": {},
   "source": [
    "The predict function is then used to predict the class for every incoming feature vector (code excerpt below)."
   ]
  },
  {
   "cell_type": "markdown",
   "metadata": {},
   "source": [
    "![](images/code_8_1.png)"
   ]
  },
  {
   "cell_type": "code",
   "execution_count": 23,
   "metadata": {},
   "outputs": [],
   "source": [
    "# GET PREDICTIONS\n",
    "predicted_classes = []\n",
    "true_classes = test_set[class_header_label].tolist()\n",
    "\n",
    "# cycle through each row in the test set\n",
    "for index, row in test_set.iterrows():\n",
    "\n",
    "    feature_row = {} # placholder dict\n",
    "\n",
    "    # go through each header name\n",
    "    for header_name in column_headers:\n",
    "        # avoid class label\n",
    "        if header_name is not class_header_label:\n",
    "\n",
    "            # build the dict with each key = header name and value = value of current row\n",
    "            feature_row[header_name] = row[header_name]            \n",
    "\n",
    "    #predicted_class, prediction_percentages = NBL.predict_(feature_row)\n",
    "    predicted_class = NBL.predict_class_from_features(feature_row)\n",
    "    predicted_classes.append(predicted_class)"
   ]
  },
  {
   "cell_type": "markdown",
   "metadata": {},
   "source": [
    "From that the accuracy can now be predicted (comparing the true test labels vs. the predicted test labels)."
   ]
  },
  {
   "cell_type": "code",
   "execution_count": 25,
   "metadata": {},
   "outputs": [
    {
     "name": "stdout",
     "output_type": "stream",
     "text": [
      "The Accuracy of the Test Set is: 0.997539975399754\n"
     ]
    }
   ],
   "source": [
    "# predict the accuracy\n",
    "accuracy_counter = 0\n",
    "for i in range(len(predicted_classes)):\n",
    "    if predicted_classes[i] == true_classes[i]:\n",
    "        accuracy_counter += 1\n",
    "\n",
    "print(\"The Accuracy of the Test Set is:\", accuracy_counter / len(predicted_classes))"
   ]
  },
  {
   "cell_type": "markdown",
   "metadata": {},
   "source": [
    "In this basic implementation the shuffle data option may impact the final accuracy. However with testing several iterations it usually has an accuracy of >90%. In the event of lower accuracy a confusion matrix can shed light if a single class is primarily predicted wrong or if predictions are even across the board. As mentioned the SKLearn library offers various analysis tools including a confusion matrix:"
   ]
  },
  {
   "cell_type": "code",
   "execution_count": 26,
   "metadata": {},
   "outputs": [
    {
     "data": {
      "text/plain": [
       "array([[411,   2],\n",
       "       [  0, 400]], dtype=int64)"
      ]
     },
     "execution_count": 26,
     "metadata": {},
     "output_type": "execute_result"
    }
   ],
   "source": [
    "from sklearn.metrics import confusion_matrix\n",
    "conf_matrix = confusion_matrix(predicted_classes, true_classes)\n",
    "conf_matrix"
   ]
  },
  {
   "cell_type": "markdown",
   "metadata": {},
   "source": [
    "![](images/mushroom_safe.png)\n",
    "#### Mushroom Prediction\n",
    "In this example it shows that two predictions were wrong. That indicates that the likelihood of survival when planning on eating a predicted edible mushroom seems.... quite high."
   ]
  },
  {
   "cell_type": "code",
   "execution_count": null,
   "metadata": {},
   "outputs": [],
   "source": []
  }
 ],
 "metadata": {
  "kernelspec": {
   "display_name": "Python 3",
   "language": "python",
   "name": "python3"
  },
  "language_info": {
   "codemirror_mode": {
    "name": "ipython",
    "version": 3
   },
   "file_extension": ".py",
   "mimetype": "text/x-python",
   "name": "python",
   "nbconvert_exporter": "python",
   "pygments_lexer": "ipython3",
   "version": "3.7.5"
  }
 },
 "nbformat": 4,
 "nbformat_minor": 4
}